{
 "cells": [
  {
   "cell_type": "code",
   "execution_count": null,
   "id": "ed71ffc4",
   "metadata": {},
   "outputs": [],
   "source": [
    "from PIL import Image, ImageFilter, ImageOps, ImageEnhance, ImageDraw, ImageFont\n",
    "\n",
    "# Mở ảnh\n",
    "img = Image.open(\"cat.jpg\")\n",
    "\n",
    "# Hiển thị ảnh\n",
    "img.show()\n",
    "\n",
    "# Lưu ảnh\n",
    "img.save(\"cat_copy.png\")\n",
    "\n",
    "# Lấy kích thước\n",
    "print(img.size)  # (width, height)\n",
    "\n",
    "# Cắt ảnh\n",
    "cropped = img.crop((100, 100, 300, 300))\n",
    "\n",
    "# Thay đổi kích thước\n",
    "resized = img.resize((128, 128))\n",
    "\n",
    "# Xoay ảnh\n",
    "rotated = img.rotate(45)\n",
    "\n",
    "# Lật ngang hoặc dọc\n",
    "flipped_h = img.transpose(Image.FLIP_LEFT_RIGHT)\n",
    "flipped_v = img.transpose(Image.FLIP_TOP_BOTTOM)\n",
    "\n",
    "# Chuyển sang grayscale\n",
    "gray = img.convert(\"L\")\n",
    "\n",
    "# Làm mờ\n",
    "blurred = img.filter(ImageFilter.GaussianBlur(2))\n",
    "\n",
    "# Tăng độ tương phản\n",
    "enhancer = ImageEnhance.Contrast(img)\n",
    "contrast_img = enhancer.enhance(1.5)\n",
    "\n",
    "# Lưu lại kết quả\n",
    "contrast_img.save(\"cat_contrast.jpg\")\n"
   ]
  },
  {
   "cell_type": "markdown",
   "id": "ce5ae02c",
   "metadata": {},
   "source": [
    "# Nâng cao:"
   ]
  },
  {
   "cell_type": "code",
   "execution_count": null,
   "id": "529cbc73",
   "metadata": {},
   "outputs": [],
   "source": [
    "# Ghép hai ảnh cùng kích thước\n",
    "img1 = Image.open(\"cat.jpg\").resize((200, 200))\n",
    "img2 = Image.open(\"dog.jpg\").resize((200, 200))\n",
    "\n",
    "# Pha trộn (alpha blending)\n",
    "blended = Image.blend(img1, img2, alpha=0.5)\n",
    "\n",
    "# Nối hai ảnh\n",
    "combined = Image.new(\"RGB\", (400, 200))\n",
    "combined.paste(img1, (0, 0))\n",
    "combined.paste(img2, (200, 0))\n",
    "\n",
    "combined.save(\"cat_dog_combo.jpg\")\n"
   ]
  },
  {
   "cell_type": "markdown",
   "id": "cd5f810b",
   "metadata": {},
   "source": [
    "# Chuyển đổi giữa pillow và tensor trong PyTorch"
   ]
  },
  {
   "cell_type": "code",
   "execution_count": null,
   "id": "8631edfc",
   "metadata": {},
   "outputs": [],
   "source": [
    "from PIL import Image\n",
    "import torch\n",
    "from torchvision import transforms\n",
    "\n",
    "# --- Từ Pillow -> Tensor ---\n",
    "img = Image.open(\"cat.jpg\")\n",
    "\n",
    "transform = transforms.Compose([\n",
    "    transforms.Resize((224, 224)),\n",
    "    transforms.ToTensor()  # chuyển sang tensor [C, H, W], giá trị [0, 1]\n",
    "])\n",
    "\n",
    "tensor_img = transform(img)\n",
    "print(tensor_img.shape)  # ví dụ: torch.Size([3, 224, 224])\n",
    "\n",
    "# --- Từ Tensor -> Pillow ---\n",
    "to_pil = transforms.ToPILImage()\n",
    "img_back = to_pil(tensor_img)\n",
    "img_back.show()\n"
   ]
  }
 ],
 "metadata": {
  "language_info": {
   "name": "python"
  }
 },
 "nbformat": 4,
 "nbformat_minor": 5
}
