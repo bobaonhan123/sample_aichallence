{
 "cells": [
  {
   "cell_type": "markdown",
   "id": "e3c9957f",
   "metadata": {},
   "source": [
    "# Counter đếm data"
   ]
  },
  {
   "cell_type": "code",
   "execution_count": null,
   "id": "f46ea89a",
   "metadata": {},
   "outputs": [],
   "source": [
    "from collections import Counter\n",
    "from sklearn.datasets import make_classification\n",
    "\n",
    "X, y = make_classification(\n",
    "    n_samples=5000, n_features=10, n_classes=2,\n",
    "    weights=[0.9, 0.1], random_state=42\n",
    ")\n",
    "\n",
    "print(Counter(y))  # Output: Counter({0: 4500, 1: 500})\n"
   ]
  },
  {
   "cell_type": "markdown",
   "id": "ff062063",
   "metadata": {},
   "source": [
    "# Oversampling"
   ]
  },
  {
   "cell_type": "code",
   "execution_count": null,
   "id": "5d5ec5d7",
   "metadata": {},
   "outputs": [],
   "source": [
    "from imblearn.over_sampling import RandomOverSampler\n",
    "from collections import Counter\n",
    "\n",
    "ros = RandomOverSampler(random_state=42)\n",
    "X_res, y_res = ros.fit_resample(X, y)\n",
    "\n",
    "print(\"Before:\", Counter(y))\n",
    "print(\"After:\", Counter(y_res))\n"
   ]
  },
  {
   "cell_type": "markdown",
   "id": "03a61128",
   "metadata": {},
   "source": [
    "# Undersampling"
   ]
  },
  {
   "cell_type": "code",
   "execution_count": null,
   "id": "1fa49e73",
   "metadata": {},
   "outputs": [],
   "source": [
    "from imblearn.under_sampling import RandomUnderSampler\n",
    "\n",
    "rus = RandomUnderSampler(random_state=42)\n",
    "X_res, y_res = rus.fit_resample(X, y)\n",
    "print(\"Before:\", Counter(y))\n",
    "print(\"After:\", Counter(y_res))\n"
   ]
  },
  {
   "cell_type": "markdown",
   "id": "c993c114",
   "metadata": {},
   "source": [
    "# SMOTE"
   ]
  },
  {
   "cell_type": "code",
   "execution_count": null,
   "id": "a90f2f3b",
   "metadata": {},
   "outputs": [],
   "source": [
    "from imblearn.over_sampling import SMOTE\n",
    "\n",
    "sm = SMOTE(random_state=42)\n",
    "X_res, y_res = sm.fit_resample(X, y)\n",
    "print(\"After SMOTE:\", Counter(y_res))\n"
   ]
  }
 ],
 "metadata": {
  "language_info": {
   "name": "python"
  }
 },
 "nbformat": 4,
 "nbformat_minor": 5
}
